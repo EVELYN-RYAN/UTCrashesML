{
  "nbformat": 4,
  "nbformat_minor": 0,
  "metadata": {
    "colab": {
      "name": "onnxModel.ipynb",
      "provenance": [],
      "collapsed_sections": []
    },
    "kernelspec": {
      "name": "python3",
      "display_name": "Python 3"
    },
    "language_info": {
      "name": "python"
    }
  },
  "cells": [
    {
      "cell_type": "markdown",
      "source": [
        "**ONNX Model Results**<br>\n",
        "> GradientBoostingRegressor"
      ],
      "metadata": {
        "id": "0UV_ISSKBxn5"
      }
    },
    {
      "cell_type": "markdown",
      "source": [
        "This is a walk through of the modeling to deploy using an .onnx file\n",
        "> - Install Dependancies\n",
        "> - Import Data Using .csv\n",
        "> - Train Test and Split\n",
        "> - Fit Model with Parameters\n",
        "> - Score and Evaluate\n",
        "> - Customize and Build .onnx File\n"
      ],
      "metadata": {
        "id": "qX-GJKtC-BMv"
      }
    },
    {
      "cell_type": "markdown",
      "source": [
        "**0. Install/Import Dependancies**"
      ],
      "metadata": {
        "id": "J8BJxIVS-JWk"
      }
    },
    {
      "cell_type": "code",
      "source": [
        "#!pip install skl2onnx"
      ],
      "metadata": {
        "id": "VkLJVuXBq5TF"
      },
      "execution_count": null,
      "outputs": []
    },
    {
      "cell_type": "code",
      "source": [
        "import pandas as pd\n",
        "from sklearn import datasets\n",
        "from sklearn.ensemble import GradientBoostingRegressor\n",
        "from sklearn.model_selection import train_test_split # Import train_test_split function"
      ],
      "metadata": {
        "id": "3dKonybNr7v9"
      },
      "execution_count": 11,
      "outputs": []
    },
    {
      "cell_type": "markdown",
      "source": [
        "**1. Import Data Using .csv**"
      ],
      "metadata": {
        "id": "h65pq1Ll_zro"
      }
    },
    {
      "cell_type": "code",
      "source": [
        "df = pd.read_csv('/content/drive/MyDrive/Colab Notebooks/INTEX-22/TableSet.csv')\n"
      ],
      "metadata": {
        "id": "qu-rc9vw-fZx"
      },
      "execution_count": 12,
      "outputs": []
    },
    {
      "cell_type": "markdown",
      "source": [
        "**2. Train Test and Split**"
      ],
      "metadata": {
        "id": "ygiSrtB0_82u"
      }
    },
    {
      "cell_type": "code",
      "source": [
        "y = df['CRASH_SEVERITY_ID'] # Label\n",
        "X = df.drop(columns=['CRASH_SEVERITY_ID','HOUR','WEEKDAY','MONTH','CITY_ID','COUNTY_ID',\"ROUTE\"]) # Features\n",
        "X_train, X_test, y_train, y_test = train_test_split(X, y, test_size=0.1)"
      ],
      "metadata": {
        "id": "D8ZkNt-n-j_R"
      },
      "execution_count": 13,
      "outputs": []
    },
    {
      "cell_type": "markdown",
      "source": [
        "**3. Fit Model with Parameters**"
      ],
      "metadata": {
        "id": "BfVWEvkqBcJN"
      }
    },
    {
      "cell_type": "code",
      "source": [
        "model_parameters = {\n",
        "    'n_estimators': 500,\n",
        "    'max_depth': 6,\n",
        "    'min_samples_split': 5,\n",
        "    'learning_rate': 0.01,\n",
        "    'loss': 'ls'\n",
        "}\n",
        "\n",
        "model = GradientBoostingRegressor(**model_parameters)\n",
        "model.fit(X_train, y_train)"
      ],
      "metadata": {
        "colab": {
          "base_uri": "https://localhost:8080/"
        },
        "id": "0051zFbj-nyg",
        "outputId": "5bcce35c-9367-4442-e25b-8fe800a6395c"
      },
      "execution_count": 14,
      "outputs": [
        {
          "output_type": "stream",
          "name": "stderr",
          "text": [
            "/usr/local/lib/python3.7/dist-packages/sklearn/ensemble/_gb.py:290: FutureWarning: The loss 'ls' was deprecated in v1.0 and will be removed in version 1.2. Use 'squared_error' which is equivalent.\n",
            "  FutureWarning,\n"
          ]
        },
        {
          "output_type": "execute_result",
          "data": {
            "text/plain": [
              "GradientBoostingRegressor(learning_rate=0.01, loss='ls', max_depth=6,\n",
              "                          min_samples_split=5, n_estimators=500)"
            ]
          },
          "metadata": {},
          "execution_count": 14
        }
      ]
    },
    {
      "cell_type": "markdown",
      "source": [
        "**4. Score and Evaluate**"
      ],
      "metadata": {
        "id": "OPxZnEgXA5fL"
      }
    },
    {
      "cell_type": "markdown",
      "source": [
        "This model doesn't produce the best accuracy. But it is a model that is supported with .onnx"
      ],
      "metadata": {
        "id": "Se11_dvAAmPa"
      }
    },
    {
      "cell_type": "code",
      "source": [
        "model.score(X,y)"
      ],
      "metadata": {
        "colab": {
          "base_uri": "https://localhost:8080/"
        },
        "id": "Un5IalxCtTVc",
        "outputId": "34e32640-367d-4e54-e843-abddbf8d8a15"
      },
      "execution_count": 15,
      "outputs": [
        {
          "output_type": "execute_result",
          "data": {
            "text/plain": [
              "0.21041061825292984"
            ]
          },
          "metadata": {},
          "execution_count": 15
        }
      ]
    },
    {
      "cell_type": "markdown",
      "source": [
        "**5. Cusomize and Build .onnx File**"
      ],
      "metadata": {
        "id": "wcvpD0S-BAYE"
      }
    },
    {
      "cell_type": "code",
      "source": [
        "from skl2onnx import convert_sklearn\n",
        "from skl2onnx.common.data_types import FloatTensorType\n",
        "initial_type = [('float_input', FloatTensorType([None, 25]))]  #<<< Number here is the amount of feature columns you have to support your model\n",
        "onnx = convert_sklearn(model, initial_types=initial_type)\n",
        "with open(\"/content/drive/MyDrive/Colab Notebooks/INTEX-22/BestModel.onnx\", \"wb\") as f:\n",
        "    f.write(onnx.SerializeToString())"
      ],
      "metadata": {
        "id": "Ma2J-7xJspWu"
      },
      "execution_count": 16,
      "outputs": []
    }
  ]
}